{
 "cells": [
  {
   "cell_type": "code",
   "execution_count": null,
   "metadata": {},
   "outputs": [],
   "source": [
    "#import GeometricTools\n",
    "from noise_removal import *\n",
    "import seaborn\n",
    "import numpy as np\n",
    "\n",
    "from glob import glob"
   ]
  },
  {
   "cell_type": "code",
   "execution_count": null,
   "metadata": {},
   "outputs": [],
   "source": [
    "paths = glob('wall_nphuc/*_wall.npy')\n",
    "paths = sorted(paths)"
   ]
  },
  {
   "cell_type": "code",
   "execution_count": null,
   "metadata": {},
   "outputs": [],
   "source": [
    "def statistic_outlier_removal(pcd, nb_neighbors=10, std_ratio=1.0):\n",
    "    _, ind = pcd.remove_statistical_outlier(nb_neighbors=nb_neighbors,\n",
    "                                                    std_ratio=std_ratio)\n",
    "    \n",
    "    display_inlier_outlier(pcd, ind)\n",
    "    inlier_cloud = pcd.select_by_index(ind)\n",
    "    o3d.visualization.draw_geometries([inlier_cloud], \"Statistical oulier removal\")\n",
    "    return inlier_cloud"
   ]
  },
  {
   "cell_type": "code",
   "execution_count": null,
   "metadata": {},
   "outputs": [],
   "source": [
    "def radius_outlier_removal(pcd, nb_points=20, radius=0.1):\n",
    "    _, ind = pcd.remove_radius_outlier(nb_points=nb_points, radius=radius)\n",
    "    display_inlier_outlier(pcd, ind)\n",
    "    inlier_cloud = pcd.select_by_index(ind)\n",
    "    o3d.visualization.draw_geometries([inlier_cloud], \"Radius oulier removal\")\n",
    "    return inlier_cloud"
   ]
  },
  {
   "cell_type": "code",
   "execution_count": null,
   "metadata": {},
   "outputs": [],
   "source": [
    "for path in paths:\n",
    "    print(path)\n",
    "    numpy_array     = np.load(path)\n",
    "    pcd = o3d.geometry.PointCloud()\n",
    "    pcd.points = o3d.utility.Vector3dVector(numpy_array)\n",
    "    print(\"before\", pcd.points)\n",
    "    pcd = radius_outlier_removal(pcd)\n",
    "    print(\"after\", pcd.points)\n",
    "    print(\"-----------\")\n",
    "    #pcd             = o3d.io.read_point_cloud(path)\n",
    "    point_numpy = np.asarray(pcd.points)\n",
    "    print(point_numpy.shape)\n",
    "    np.save(f'np_points/{path[11:]}', point_numpy)\n",
    "    "
   ]
  }
 ],
 "metadata": {
  "language_info": {
   "name": "python"
  }
 },
 "nbformat": 4,
 "nbformat_minor": 2
}
